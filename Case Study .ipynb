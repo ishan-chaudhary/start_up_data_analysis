{
 "cells": [
  {
   "cell_type": "markdown",
   "metadata": {},
   "source": [
    "# Case Study-2 "
   ]
  },
  {
   "cell_type": "markdown",
   "metadata": {},
   "source": [
    "##### Ques-1 - \n",
    "Your Friend has developed the Product and he wants to establish the product startup and he is searching for a perfect location where getting the investment has a high chance. But due to its financial restriction, he can choose only between three locations -  Bangalore, Mumbai, and NCR. As a friend, you want to help your friend deciding the location. NCR include Gurgaon, Noida and New Delhi. Find the location where the most number of funding is done. That means, find the location where startups has received funding maximum number of times. Plot the bar graph between location and number of funding.\n",
    "Take city name \"Delhi\" as \"New Delhi\". Check the case-sensitiveness of cities also. That means, at some place instead of \"Bangalore\", \"bangalore\" is given. Take city name as \"Bangalore\". \n",
    "For few startups multiple locations are given, one Indian and one Foreign. Consider the startup if any one of the city lies in given locations."
   ]
  },
  {
   "cell_type": "code",
   "execution_count": 1,
   "metadata": {},
   "outputs": [],
   "source": [
    "import numpy as np\n",
    "import pandas as pd\n",
    "import matplotlib.pyplot as plt"
   ]
  },
  {
   "cell_type": "code",
   "execution_count": 41,
   "metadata": {},
   "outputs": [],
   "source": [
    "data_set = pd.read_csv('./startup_funding.csv')\n",
    "df = data_set.copy() #We make a copy of the given data set in order to retrive the original dataset whenever we want"
   ]
  },
  {
   "cell_type": "code",
   "execution_count": 5,
   "metadata": {},
   "outputs": [],
   "source": [
    "df.CityLocation.fillna(\"\",inplace=True) #Fill the value of city having NAN with empty string"
   ]
  },
  {
   "cell_type": "code",
   "execution_count": 6,
   "metadata": {},
   "outputs": [],
   "source": [
    "def extractCity(loc):\n",
    "    if '/' in loc:\n",
    "        cityList = loc.split('/') # Incase the starup has more than one city we get the indian city by taking\n",
    "                                  # first index as the city name after spliting the array .\n",
    "        return cityList[0].strip().capitalize()\n",
    "    else:\n",
    "        return loc.strip().capitalize() \n",
    "#Capitalization is done in order to convert city like banglore to Banglore\n",
    "df['ind_city'] = df['CityLocation'].apply(extractCity)"
   ]
  },
  {
   "cell_type": "code",
   "execution_count": 8,
   "metadata": {},
   "outputs": [],
   "source": [
    "#This done in order to convert different names of New Delhi .\n",
    "def convert(a):\n",
    "    if a =='Delhi' or a=='New delhi':\n",
    "        return 'New Delhi'\n",
    "    else:\n",
    "        return a\n",
    "df['ind_city']=df['ind_city'].apply(convert)"
   ]
  },
  {
   "cell_type": "code",
   "execution_count": 21,
   "metadata": {},
   "outputs": [],
   "source": [
    "# We find number of fundings made in different cities of india\n",
    "index = df['ind_city'].value_counts().index\n",
    "values= df['ind_city'].value_counts().values"
   ]
  },
  {
   "cell_type": "code",
   "execution_count": 22,
   "metadata": {},
   "outputs": [],
   "source": [
    "# We Convert these arrays into numpy arrays\n",
    "np_index = np.array(index)\n",
    "np_values= np.array(values)"
   ]
  },
  {
   "cell_type": "code",
   "execution_count": 34,
   "metadata": {},
   "outputs": [],
   "source": [
    "# Now we find the total of fundings given in ncr region\n",
    "sum_ncr = np_values[(np_index=='Gurgaon') | (np_index=='Noida') | (np_index=='New Delhi') ].sum()"
   ]
  },
  {
   "cell_type": "code",
   "execution_count": 41,
   "metadata": {},
   "outputs": [],
   "source": [
    "labels = ['Bangalore','Mumbai','NCR']\n",
    "value = []\n",
    "value.append(np_values[(np_index == 'Bangalore')][0])\n",
    "value.append(np_values[(np_index == 'Mumbai')][0])\n",
    "value.append(sum_ncr)"
   ]
  },
  {
   "cell_type": "code",
   "execution_count": 55,
   "metadata": {},
   "outputs": [
    {
     "data": {
      "image/png": "[encoded data removed]",
      "text/plain": [
       "<Figure size 432x288 with 1 Axes>"
      ]
     },
     "metadata": {
      "needs_background": "light"
     },
     "output_type": "display_data"
    }
   ],
   "source": [
    "# Finally we plot the graph \n",
    "color = ['red','blue','green']\n",
    "plt.bar(height = value,x = labels,color=color,edgecolor='black',width=0.5,alpha=0.4)\n",
    "plt.xlabel('City Name')\n",
    "plt.ylabel('Number of Funding Made')\n",
    "plt.title('Funding Per City')\n",
    "plt.show()"
   ]
  },
  {
   "cell_type": "code",
   "execution_count": 63,
   "metadata": {},
   "outputs": [
    {
     "name": "stdout",
     "output_type": "stream",
     "text": [
      "NCR\n"
     ]
    }
   ],
   "source": [
    "#Clearly NCR is the most favourable area to start a start up\n",
    "print(labels[value.index(max(value))])"
   ]
  },
  {
   "cell_type": "markdown",
   "metadata": {},
   "source": [
    "###  Sol- The city with most funding is NCR "
   ]
  },
  {
   "cell_type": "markdown",
   "metadata": {},
   "source": [
    "### Ques 2-\n",
    "Even after trying for so many times, your friend’s startup could not find the investment. So you decided to take this matter in your hand and try to find the list of investors who probably can invest in your friend’s startup. \n",
    "Your list will increase the chance of your friend startup getting some initial investment by contacting these investors. \n",
    "Find the top 5 investors who have invested maximum number of times (consider repeat investments in one company also). In a startup, multiple investors might have invested. So consider each investor for that startup. \n",
    "Ignore undisclosed investors."
   ]
  },
  {
   "cell_type": "code",
   "execution_count": 185,
   "metadata": {},
   "outputs": [],
   "source": [
    "# To Proceed with this we extract the name of the investors from tha data\n",
    "\n",
    "name = {}\n",
    "# We maintain a dictionary to count number of fundings by each investor \n",
    "def extractName(a):\n",
    "    if isinstance(a,str):\n",
    "        temp = a.split(',')\n",
    "        for i in temp:\n",
    "            name_c=i.strip()\n",
    "            if (name_c in name):\n",
    "                name[name_c]=name[name_c]+1\n",
    "            else:\n",
    "                name[name_c]=1\n",
    "df['InvestorsName'].apply(extractName)\n",
    "\n",
    "\n",
    "name_arr=[]\n",
    "num_arr=[]\n",
    "\n",
    "for i in name:\n",
    "    name_arr.append(i)\n",
    "    num_arr.append(name[i])\n",
    "\n",
    "np_name = np.array(name_arr)\n",
    "np_num  = np.array(num_arr)"
   ]
  },
  {
   "cell_type": "code",
   "execution_count": 186,
   "metadata": {},
   "outputs": [],
   "source": [
    "np_num = np_num[(np_name != 'Undisclosed investors') & (np_name != 'Undisclosed Investors') ]"
   ]
  },
  {
   "cell_type": "code",
   "execution_count": 187,
   "metadata": {},
   "outputs": [],
   "source": [
    "name_list = np_name[(np_name != 'Undisclosed investors') & (np_name != 'Undisclosed Investors')]"
   ]
  },
  {
   "cell_type": "code",
   "execution_count": 188,
   "metadata": {},
   "outputs": [],
   "source": [
    "name_list = name_list[np_num.argsort()][-1:-6:-1]\n",
    "num_list  = np_num[np_num.argsort()][-1:-6:-1]"
   ]
  },
  {
   "cell_type": "code",
   "execution_count": 189,
   "metadata": {},
   "outputs": [
    {
     "name": "stdout",
     "output_type": "stream",
     "text": [
      "Sequoia Capital 64\n",
      "Accel Partners 53\n",
      "Kalaari Capital 44\n",
      "SAIF Partners 41\n",
      "Indian Angel Network 40\n"
     ]
    }
   ],
   "source": [
    "for i in range(0,len(name_list)):\n",
    "    print(name_list[i],num_list[i])"
   ]
  },
  {
   "cell_type": "code",
   "execution_count": 190,
   "metadata": {},
   "outputs": [
    {
     "data": {
      "image/png": "[encoded data removed]",
      "text/plain": [
       "<Figure size 432x288 with 1 Axes>"
      ]
     },
     "metadata": {
      "needs_background": "light"
     },
     "output_type": "display_data"
    }
   ],
   "source": [
    "color = ['red','blue','green','yellow','orange']\n",
    "plt.bar(height = num_list,x = name_list,color=color,edgecolor='black',width=0.5,alpha=0.4)\n",
    "plt.xticks(rotation = 40)\n",
    "plt.xlabel(\"Investor's Name\")\n",
    "plt.ylabel('Number of Funding Made')\n",
    "plt.title('Funding Per Investor')\n",
    "plt.show()"
   ]
  },
  {
   "cell_type": "markdown",
   "metadata": {},
   "source": [
    "### List of investors:-\n",
    " Sequoia Capital, \n",
    " Accel Partners, \n",
    " Kalaari Capital ,\n",
    " SAIF Partners, \n",
    " Indian Angel Network ."
   ]
  },
  {
   "cell_type": "markdown",
   "metadata": {},
   "source": [
    "## Ques 3-\n",
    "After re-analysing the dataset you found out that some investors have invested in the same startup at different number of funding rounds. So before finalising the previous list, you want to improvise it by finding the top 5 investors who have invested in different number of startups. \n",
    "This list will be more helpful than your previous list in finding the investment for your friend startup. Find the top 5 investors who have invested maximum number of times in different companies. \n",
    "That means, if one investor has invested multiple times in one startup, count one for that company. There are many errors in startup names. Ignore correcting all, just handle the important ones - Ola, Flipkart, Oyo and Paytm."
   ]
  },
  {
   "cell_type": "code",
   "execution_count": 151,
   "metadata": {},
   "outputs": [],
   "source": [
    "# We first correct the names of the companies in order to proceed with the analysis\n",
    "def check(a):\n",
    "    if 'Paytm' in a:\n",
    "        return 'Paytm'\n",
    "    if ('Oyo' in a ) or ('OYO Rooms' in a):\n",
    "        return 'Oyo'\n",
    "    if 'Flipkart' in a:\n",
    "        return 'Flipkart'\n",
    "    if 'Ola' in a:\n",
    "        return 'Ola'\n",
    "    return a\n",
    "df['cmp_name'] = df['StartupName'].apply(check) # We Create a new column in the dataframe to store the corrected name \n",
    "                                                # the name of the column is cmp_name  "
   ]
  },
  {
   "cell_type": "code",
   "execution_count": 164,
   "metadata": {},
   "outputs": [],
   "source": [
    "# In order to get the name of the investors who invested in different startups we maintain a diction with key value\n",
    "# being the name of the investor and the value being a set of companies in which each investor invested this helps \n",
    "# us in getting the number of the unique companies that a particular investor has investor \n",
    "\n",
    "invest_dict = {}\n",
    "\n",
    "def extractName(a):\n",
    "    investors_list = a.values\n",
    "    company_name   = a.name\n",
    "    for investor_str in investors_list:\n",
    "        if isinstance(investor_str,str):\n",
    "            split_list = investor_str.split(',')\n",
    "            for investor in split_list:\n",
    "                    if investor == '':\n",
    "                        continue\n",
    "                    investor = investor.strip()\n",
    "                    if(investor in invest_dict):\n",
    "                        invest_dict[investor].add(company_name)\n",
    "                    else:\n",
    "                        invest_dict[investor] = set([company_name])\n",
    "                        \n",
    "temp = df.groupby('cmp_name')['InvestorsName'].apply(extractName)"
   ]
  },
  {
   "cell_type": "code",
   "execution_count": 165,
   "metadata": {},
   "outputs": [],
   "source": [
    "name = []\n",
    "num  = []\n",
    "for i in invest_dict:\n",
    "    name.append(i)\n",
    "    num.append(len(invest_dict[i]))"
   ]
  },
  {
   "cell_type": "code",
   "execution_count": 166,
   "metadata": {},
   "outputs": [],
   "source": [
    "np_name = np.array(name)\n",
    "np_num  = np.array(num)"
   ]
  },
  {
   "cell_type": "code",
   "execution_count": 175,
   "metadata": {},
   "outputs": [],
   "source": [
    "name_list = np_name[(np_name != 'Undisclosed investors') & (np_name != 'Undisclosed Investors')]\n",
    "np_num = np_num[(np_name != 'Undisclosed investors') & (np_name != 'Undisclosed Investors')]"
   ]
  },
  {
   "cell_type": "code",
   "execution_count": 179,
   "metadata": {},
   "outputs": [],
   "source": [
    "final_name = name_list [np_num.argsort()][-1:-6:-1]\n",
    "final_num  = np_num[np_num.argsort()][-1:-6:-1]"
   ]
  },
  {
   "cell_type": "code",
   "execution_count": 180,
   "metadata": {},
   "outputs": [
    {
     "name": "stdout",
     "output_type": "stream",
     "text": [
      "Sequoia Capital 48\n",
      "Accel Partners 47\n",
      "Kalaari Capital 41\n",
      "Indian Angel Network 40\n",
      "Blume Ventures 36\n"
     ]
    }
   ],
   "source": [
    "for i in range(0,len(final_name)):\n",
    "    print(final_name[i],final_num[i])"
   ]
  },
  {
   "cell_type": "code",
   "execution_count": 181,
   "metadata": {},
   "outputs": [
    {
     "data": {
      "image/png": "[encoded data removed]",
      "text/plain": [
       "<Figure size 432x288 with 1 Axes>"
      ]
     },
     "metadata": {
      "needs_background": "light"
     },
     "output_type": "display_data"
    }
   ],
   "source": [
    "color = ['red','blue','green','yellow','orange']\n",
    "plt.bar(height = final_num,x = final_name,color=color,edgecolor='black',width=0.5,alpha=0.4)\n",
    "plt.xticks(rotation = 40)\n",
    "plt.xlabel(\"Investor's Name\")\n",
    "plt.ylabel('Number of Funding Made In Different Companies')\n",
    "plt.title('Funding Per Investor')\n",
    "plt.show()"
   ]
  },
  {
   "cell_type": "markdown",
   "metadata": {},
   "source": [
    "## List of Investors\n",
    "Sequoia Capital, Accel Partners, Kalaari Capital , SAIF Partners, Blume Ventures ."
   ]
  },
  {
   "cell_type": "markdown",
   "metadata": {},
   "source": [
    "## Ques- 4\n",
    "Even after putting so much effort in finding the probable investors, it didn't turn out to be helpful for your friend. So you went to your investor friend to understand the situation better and your investor friend explained to you about the different Investment Types and their features. \n",
    "This new information will be helpful in finding the right investor. Since your friend startup is at an early stage startup, the best-suited investment type would be - Seed Funding and Crowdfunding. Find the top 5 investors who have invested in a different number of startups and their investment type is Crowdfunding or Seed Funding. Correct spelling of investment types are - \"Private Equity\", \"Seed Funding\", \"Debt Funding\", and \"Crowd Funding\".\n",
    "Keep an eye for any spelling mistake. You can find this by printing unique values from this column. There are many errors in startup names. Ignore correcting all, just handle the important ones - Ola, Flipkart, Oyo and Paytm."
   ]
  },
  {
   "cell_type": "code",
   "execution_count": 3,
   "metadata": {},
   "outputs": [],
   "source": [
    "## First we correct the speeling of the Start Up as done earlier\n",
    "def check(a):\n",
    "    if 'Paytm' in a:\n",
    "        return 'Paytm'\n",
    "    if ('Oyo' in a ) or ('OYO Rooms' in a):\n",
    "        return 'Oyo'\n",
    "    if 'Flipkart' in a:\n",
    "        return 'Flipkart'\n",
    "    if 'Ola' in a:\n",
    "        return 'Ola'\n",
    "    return a\n",
    "df['cmp_name'] = df['StartupName'].apply(check) # We Create a new column in the dataframe to store the corrected name \n",
    "                                                # the name of the column is cmp_name  "
   ]
  },
  {
   "cell_type": "code",
   "execution_count": 5,
   "metadata": {},
   "outputs": [],
   "source": [
    "## NO we correct the name of the funding type\n",
    "def correction(a):\n",
    "    if a == 'SeedFunding':\n",
    "        return 'Seed Funding'\n",
    "    if a == 'Crowd funding':\n",
    "        return 'Crowd Funding'\n",
    "    if a == 'PrivateEquity':\n",
    "        return 'Private Equity'\n",
    "    return a\n",
    "df['fund_type'] = df['InvestmentType'].apply(correction)"
   ]
  },
  {
   "cell_type": "code",
   "execution_count": 7,
   "metadata": {},
   "outputs": [],
   "source": [
    "# According to question we must take funding of type seed funding and crowd funding into account so we create a new\n",
    "# dataframe out of the existing df dataframe that meets our conditions\n",
    "\n",
    "fund_df = df[(df['fund_type']=='Seed Funding') | (df['fund_type'] == 'Crowd Funding')]"
   ]
  },
  {
   "cell_type": "code",
   "execution_count": 11,
   "metadata": {},
   "outputs": [],
   "source": [
    "# In order to get the name of the investors who invested in different startups we maintain a diction with key value\n",
    "# being the name of the investor and the value being a set of companies in which each investor invested this helps \n",
    "# us in getting the number of the unique companies that a particular investor has investor \n",
    "\n",
    "invest_dict = {}\n",
    "\n",
    "def extractName(a):\n",
    "    investors_list = a.values\n",
    "    company_name   = a.name\n",
    "    for investor_str in investors_list:\n",
    "        if isinstance(investor_str,str):\n",
    "            split_list = investor_str.split(',')\n",
    "            for investor in split_list:\n",
    "                    if investor == '':\n",
    "                        continue\n",
    "                    investor = investor.strip()\n",
    "                    if(investor in invest_dict):\n",
    "                        invest_dict[investor].add(company_name)\n",
    "                    else:\n",
    "                        invest_dict[investor] = set([company_name])\n",
    "                        \n",
    "temp = fund_df.groupby('cmp_name')['InvestorsName'].apply(extractName)"
   ]
  },
  {
   "cell_type": "code",
   "execution_count": 14,
   "metadata": {},
   "outputs": [],
   "source": [
    "name = []\n",
    "num  = []\n",
    "for i in invest_dict:\n",
    "    name.append(i)\n",
    "    num.append(len(invest_dict[i]))"
   ]
  },
  {
   "cell_type": "code",
   "execution_count": 15,
   "metadata": {},
   "outputs": [],
   "source": [
    "np_name = np.array(name)\n",
    "np_num  = np.array(num)"
   ]
  },
  {
   "cell_type": "code",
   "execution_count": 16,
   "metadata": {},
   "outputs": [],
   "source": [
    "name_list = np_name[(np_name != 'Undisclosed investors') & (np_name != 'Undisclosed Investors')]\n",
    "np_num = np_num[(np_name != 'Undisclosed investors') & (np_name != 'Undisclosed Investors')]"
   ]
  },
  {
   "cell_type": "code",
   "execution_count": 17,
   "metadata": {},
   "outputs": [],
   "source": [
    "final_name = name_list [np_num.argsort()][-1:-6:-1]\n",
    "final_num  = np_num[np_num.argsort()][-1:-6:-1]"
   ]
  },
  {
   "cell_type": "code",
   "execution_count": 18,
   "metadata": {},
   "outputs": [
    {
     "name": "stdout",
     "output_type": "stream",
     "text": [
      "Indian Angel Network 33\n",
      "Rajan Anandan 23\n",
      "LetsVenture 16\n",
      "Anupam Mittal 16\n",
      "Kunal Shah 14\n"
     ]
    }
   ],
   "source": [
    "for i in range(0,len(final_name)):\n",
    "    print(final_name[i],final_num[i])"
   ]
  },
  {
   "cell_type": "code",
   "execution_count": 20,
   "metadata": {},
   "outputs": [
    {
     "data": {
      "image/png": "[encoded data removed]",
      "text/plain": [
       "<Figure size 432x288 with 1 Axes>"
      ]
     },
     "metadata": {
      "needs_background": "light"
     },
     "output_type": "display_data"
    }
   ],
   "source": [
    "color = ['red','blue','green','yellow','orange']\n",
    "plt.bar(height = final_num,x = final_name,color=color,edgecolor='black',width=0.5,alpha=0.4)\n",
    "plt.xticks(rotation = 40)\n",
    "plt.xlabel(\"Investor's Name\")\n",
    "plt.ylabel('Number of Funding Made In Different Companies')\n",
    "plt.title('Funding Per Investor')\n",
    "plt.show()"
   ]
  },
  {
   "cell_type": "markdown",
   "metadata": {},
   "source": [
    "## List of Investors\n",
    "Indian Angel Network ,\n",
    "Rajan Anandan ,\n",
    "LetsVenture ,\n",
    "Anupam Mittal ,\n",
    "Kunal Shah."
   ]
  },
  {
   "cell_type": "markdown",
   "metadata": {},
   "source": [
    "## Ques - 5 \n",
    "Due to your immense help, your friend startup successfully got seed funding and it is on the operational mode. Now your friend wants to expand his startup and he is looking for new investors for his startup. \n",
    "Now you again come as a saviour to help your friend and want to create a list of probable new new investors. Before moving forward you remember your investor friend advice that finding the investors by analysing the investment type. Since your friend startup is not in early phase it is in growth stage so the best-suited investment type is Private Equity. Find the top 5 investors who have invested in a different number of startups and their investment type is Private Equity. Correct spelling of investment types are - \"Private Equity\", \"Seed Funding\", \"Debt Funding\", and \"Crowd Funding\". \n",
    "Keep an eye for any spelling mistake. You can find this by printing unique values from this column.There are many errors in startup names. Ignore correcting all, just handle the important ones - Ola, Flipkart, Oyo and Paytm."
   ]
  },
  {
   "cell_type": "code",
   "execution_count": 42,
   "metadata": {},
   "outputs": [],
   "source": [
    "## First we correct the speeling of the Start Up as done earlier\n",
    "def check(a):\n",
    "    if 'Paytm' in a:\n",
    "        return 'Paytm'\n",
    "    if ('Oyo' in a ) or ('OYO Rooms' in a):\n",
    "        return 'Oyo'\n",
    "    if 'Flipkart' in a:\n",
    "        return 'Flipkart'\n",
    "    if 'Ola' in a:\n",
    "        return 'Ola'\n",
    "    return a\n",
    "df['cmp_name'] = df['StartupName'].apply(check) # We Create a new column in the dataframe to store the corrected name \n",
    "                                                # the name of the column is cmp_name  "
   ]
  },
  {
   "cell_type": "code",
   "execution_count": 43,
   "metadata": {},
   "outputs": [],
   "source": [
    "## NO we correct the name of the funding type\n",
    "def correction(a):\n",
    "    if a == 'SeedFunding':\n",
    "        return 'Seed Funding'\n",
    "    if a == 'Crowd funding':\n",
    "        return 'Crowd Funding'\n",
    "    if a == 'PrivateEquity':\n",
    "        return 'Private Equity'\n",
    "    return a\n",
    "df['fund_type'] = df['InvestmentType'].apply(correction)"
   ]
  },
  {
   "cell_type": "code",
   "execution_count": 44,
   "metadata": {},
   "outputs": [],
   "source": [
    "# According to question we must take funding of type seed funding and crowd funding into account so we create a new\n",
    "# dataframe out of the existing df dataframe that meets our conditions\n",
    "\n",
    "fund_df = df[(df['fund_type']=='Private Equity')]"
   ]
  },
  {
   "cell_type": "code",
   "execution_count": 45,
   "metadata": {},
   "outputs": [],
   "source": [
    "# In order to get the name of the investors who invested in different startups we maintain a diction with key value\n",
    "# being the name of the investor and the value being a set of companies in which each investor invested this helps \n",
    "# us in getting the number of the unique companies that a particular investor has investor \n",
    "\n",
    "invest_dict = {}\n",
    "\n",
    "def extractName(a):\n",
    "    investors_list = a.values\n",
    "    company_name   = a.name\n",
    "    for investor_str in investors_list:\n",
    "        if isinstance(investor_str,str):\n",
    "            split_list = investor_str.split(',')\n",
    "            for investor in split_list:\n",
    "                    if investor == '':\n",
    "                        continue\n",
    "                    investor = investor.strip()\n",
    "                    if(investor in invest_dict):\n",
    "                        invest_dict[investor].add(company_name)\n",
    "                    else:\n",
    "                        invest_dict[investor] = set([company_name])\n",
    "                        \n",
    "temp = fund_df.groupby('cmp_name')['InvestorsName'].apply(extractName)"
   ]
  },
  {
   "cell_type": "code",
   "execution_count": 46,
   "metadata": {},
   "outputs": [],
   "source": [
    "name = []\n",
    "num  = []\n",
    "for i in invest_dict:\n",
    "    name.append(i)\n",
    "    num.append(len(invest_dict[i]))"
   ]
  },
  {
   "cell_type": "code",
   "execution_count": 47,
   "metadata": {},
   "outputs": [],
   "source": [
    "np_name = np.array(name)\n",
    "np_num  = np.array(num)"
   ]
  },
  {
   "cell_type": "code",
   "execution_count": 48,
   "metadata": {},
   "outputs": [],
   "source": [
    "name_list = np_name[(np_name != 'Undisclosed investors') & (np_name != 'Undisclosed Investors')]\n",
    "np_num = np_num[(np_name != 'Undisclosed investors') & (np_name != 'Undisclosed Investors')]"
   ]
  },
  {
   "cell_type": "code",
   "execution_count": 49,
   "metadata": {},
   "outputs": [],
   "source": [
    "final_name = name_list [np_num.argsort()][-1:-6:-1]\n",
    "final_num  = np_num[np_num.argsort()][-1:-6:-1]"
   ]
  },
  {
   "cell_type": "code",
   "execution_count": 50,
   "metadata": {},
   "outputs": [
    {
     "name": "stdout",
     "output_type": "stream",
     "text": [
      "Sequoia Capital 45\n",
      "Accel Partners 43\n",
      "Kalaari Capital 35\n",
      "Blume Ventures 27\n",
      "SAIF Partners 24\n"
     ]
    }
   ],
   "source": [
    "for i in range(0,len(final_name)):\n",
    "    print(final_name[i],final_num[i])"
   ]
  },
  {
   "cell_type": "code",
   "execution_count": 51,
   "metadata": {},
   "outputs": [
    {
     "data": {
      "image/png": "[encoded data removed]",
      "text/plain": [
       "<Figure size 432x288 with 1 Axes>"
      ]
     },
     "metadata": {
      "needs_background": "light"
     },
     "output_type": "display_data"
    }
   ],
   "source": [
    "color = ['red','blue','green','yellow','orange']\n",
    "plt.bar(height = final_num,x = final_name,color=color,edgecolor='black',width=0.5,alpha=0.4)\n",
    "plt.xticks(rotation = 40)\n",
    "plt.xlabel(\"Investor's Name\")\n",
    "plt.ylabel('Number of Funding Made In Different Companies')\n",
    "plt.title('Funding Per Investor')\n",
    "plt.show()"
   ]
  },
  {
   "cell_type": "markdown",
   "metadata": {},
   "source": [
    "## List of Investors\n",
    "Sequoia Capital ,\n",
    "Accel Partners ,\n",
    "Kalaari Capital ,\n",
    "Blume Ventures ,\n",
    "SAIF Partners."
   ]
  }
 ],
 "metadata": {
  "kernelspec": {
   "display_name": "Python 3",
   "language": "python",
   "name": "python3"
  },
  "language_info": {
   "codemirror_mode": {
    "name": "ipython",
    "version": 3
   },
   "file_extension": ".py",
   "mimetype": "text/x-python",
   "name": "python",
   "nbconvert_exporter": "python",
   "pygments_lexer": "ipython3",
   "version": "3.7.6"
  }
 },
 "nbformat": 4,
 "nbformat_minor": 4
}
